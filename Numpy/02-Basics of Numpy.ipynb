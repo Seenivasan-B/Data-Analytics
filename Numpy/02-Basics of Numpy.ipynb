{
 "cells": [
  {
   "cell_type": "markdown",
   "id": "a551caf2",
   "metadata": {},
   "source": [
    "# 02-Basics of Numpy"
   ]
  },
  {
   "cell_type": "markdown",
   "id": "7703e52e",
   "metadata": {},
   "source": [
    "#### Creating an array"
   ]
  },
  {
   "cell_type": "code",
   "execution_count": 1,
   "id": "96d41cdd",
   "metadata": {},
   "outputs": [],
   "source": [
    "import numpy as np"
   ]
  },
  {
   "cell_type": "code",
   "execution_count": 2,
   "id": "da2e4f5c",
   "metadata": {},
   "outputs": [
    {
     "data": {
      "text/plain": [
       "array([1, 2, 3])"
      ]
     },
     "execution_count": 2,
     "metadata": {},
     "output_type": "execute_result"
    }
   ],
   "source": [
    "a = np.array([1,2,3])\n",
    "a"
   ]
  },
  {
   "cell_type": "code",
   "execution_count": 3,
   "id": "bca011f7",
   "metadata": {},
   "outputs": [
    {
     "data": {
      "text/plain": [
       "array([[9., 8., 7.],\n",
       "       [1., 2., 3.]])"
      ]
     },
     "execution_count": 3,
     "metadata": {},
     "output_type": "execute_result"
    }
   ],
   "source": [
    "b = np.array([[9.0,8.0,7.0],[1.0,2.0,3.0]])\n",
    "b"
   ]
  },
  {
   "cell_type": "markdown",
   "id": "6b1e2a69",
   "metadata": {},
   "source": [
    "Here a is an one dimensional array and b is a two dimensional array."
   ]
  },
  {
   "cell_type": "markdown",
   "id": "6c65cf09",
   "metadata": {},
   "source": [
    "#### To get the dimension of a numpy array"
   ]
  },
  {
   "cell_type": "code",
   "execution_count": 4,
   "id": "11799697",
   "metadata": {},
   "outputs": [
    {
     "data": {
      "text/plain": [
       "1"
      ]
     },
     "execution_count": 4,
     "metadata": {},
     "output_type": "execute_result"
    }
   ],
   "source": [
    "a = np.array([1,2,3])\n",
    "a.ndim"
   ]
  },
  {
   "cell_type": "code",
   "execution_count": 5,
   "id": "8aa07795",
   "metadata": {},
   "outputs": [
    {
     "data": {
      "text/plain": [
       "2"
      ]
     },
     "execution_count": 5,
     "metadata": {},
     "output_type": "execute_result"
    }
   ],
   "source": [
    "b = np.array([[9.0,8.0,7.0],[1.0,2.0,3.0]])\n",
    "b.ndim"
   ]
  },
  {
   "cell_type": "markdown",
   "id": "1a8a8f4b",
   "metadata": {},
   "source": [
    "#### To get the shape of a numpy array"
   ]
  },
  {
   "cell_type": "code",
   "execution_count": 6,
   "id": "1f4a462e",
   "metadata": {},
   "outputs": [
    {
     "data": {
      "text/plain": [
       "(3,)"
      ]
     },
     "execution_count": 6,
     "metadata": {},
     "output_type": "execute_result"
    }
   ],
   "source": [
    "a = np.array([1,2,3])\n",
    "a.shape"
   ]
  },
  {
   "cell_type": "code",
   "execution_count": 7,
   "id": "04189c68",
   "metadata": {},
   "outputs": [
    {
     "data": {
      "text/plain": [
       "(2, 3)"
      ]
     },
     "execution_count": 7,
     "metadata": {},
     "output_type": "execute_result"
    }
   ],
   "source": [
    "b = np.array([[9.0,8.0,7.0],[1.0,2.0,3.0]])\n",
    "b.shape"
   ]
  },
  {
   "cell_type": "markdown",
   "id": "430b5278",
   "metadata": {},
   "source": [
    "Here (2,3) represents 2 rows and 3 columns."
   ]
  },
  {
   "cell_type": "markdown",
   "id": "7290a281",
   "metadata": {},
   "source": [
    "#### To get the data type of a numpy array"
   ]
  },
  {
   "cell_type": "code",
   "execution_count": 8,
   "id": "367c9673",
   "metadata": {},
   "outputs": [
    {
     "data": {
      "text/plain": [
       "dtype('int32')"
      ]
     },
     "execution_count": 8,
     "metadata": {},
     "output_type": "execute_result"
    }
   ],
   "source": [
    "a = np.array([1,2,3])\n",
    "a.dtype"
   ]
  },
  {
   "cell_type": "code",
   "execution_count": 9,
   "id": "1fde617d",
   "metadata": {},
   "outputs": [
    {
     "data": {
      "text/plain": [
       "dtype('float64')"
      ]
     },
     "execution_count": 9,
     "metadata": {},
     "output_type": "execute_result"
    }
   ],
   "source": [
    "b = np.array([[9.0,8.0,7.0],[1.0,2.0,3.0]])\n",
    "b.dtype"
   ]
  },
  {
   "cell_type": "markdown",
   "id": "6d54e36e",
   "metadata": {},
   "source": [
    "### To assign a data type manually to a numpy array"
   ]
  },
  {
   "cell_type": "code",
   "execution_count": 10,
   "id": "6c867e5e",
   "metadata": {},
   "outputs": [
    {
     "data": {
      "text/plain": [
       "dtype('int16')"
      ]
     },
     "execution_count": 10,
     "metadata": {},
     "output_type": "execute_result"
    }
   ],
   "source": [
    "a = np.array([1,2,3],dtype='int16')\n",
    "a.dtype"
   ]
  },
  {
   "cell_type": "code",
   "execution_count": 11,
   "id": "1ac315a2",
   "metadata": {},
   "outputs": [
    {
     "data": {
      "text/plain": [
       "dtype('int8')"
      ]
     },
     "execution_count": 11,
     "metadata": {},
     "output_type": "execute_result"
    }
   ],
   "source": [
    "b = np.array([[9.0,8.0,7.0],[1.0,2.0,3.0]],dtype='int8')\n",
    "b.dtype"
   ]
  },
  {
   "cell_type": "code",
   "execution_count": 12,
   "id": "8296b809",
   "metadata": {},
   "outputs": [
    {
     "data": {
      "text/plain": [
       "array([[9, 8, 7],\n",
       "       [1, 2, 3]], dtype=int8)"
      ]
     },
     "execution_count": 12,
     "metadata": {},
     "output_type": "execute_result"
    }
   ],
   "source": [
    "b"
   ]
  },
  {
   "cell_type": "markdown",
   "id": "f35b3e7e",
   "metadata": {},
   "source": [
    "Here we have changed the data type of b to int8 that is why the float value is converted into int value"
   ]
  },
  {
   "cell_type": "markdown",
   "id": "c5f795c5",
   "metadata": {},
   "source": [
    "#### To find the itemsize i.e., length of one array element in bytes"
   ]
  },
  {
   "cell_type": "code",
   "execution_count": 13,
   "id": "9b391cc8",
   "metadata": {},
   "outputs": [
    {
     "data": {
      "text/plain": [
       "4"
      ]
     },
     "execution_count": 13,
     "metadata": {},
     "output_type": "execute_result"
    }
   ],
   "source": [
    "a = np.array([1,2,3])\n",
    "a.itemsize"
   ]
  },
  {
   "cell_type": "code",
   "execution_count": 14,
   "id": "f5ba1893",
   "metadata": {},
   "outputs": [
    {
     "data": {
      "text/plain": [
       "8"
      ]
     },
     "execution_count": 14,
     "metadata": {},
     "output_type": "execute_result"
    }
   ],
   "source": [
    "b = np.array([[9.0,8.0,7.0],[1.0,2.0,3.0]])\n",
    "b.itemsize"
   ]
  },
  {
   "cell_type": "markdown",
   "id": "b4bcaa17",
   "metadata": {},
   "source": [
    "### To get the total size of a numpy array"
   ]
  },
  {
   "cell_type": "code",
   "execution_count": 15,
   "id": "cbaffbb8",
   "metadata": {},
   "outputs": [
    {
     "data": {
      "text/plain": [
       "12"
      ]
     },
     "execution_count": 15,
     "metadata": {},
     "output_type": "execute_result"
    }
   ],
   "source": [
    "a = np.array([1,2,3])\n",
    "a.nbytes"
   ]
  },
  {
   "cell_type": "code",
   "execution_count": 16,
   "id": "96a2cd14",
   "metadata": {},
   "outputs": [
    {
     "data": {
      "text/plain": [
       "48"
      ]
     },
     "execution_count": 16,
     "metadata": {},
     "output_type": "execute_result"
    }
   ],
   "source": [
    "b = np.array([[9.0,8.0,7.0],[1.0,2.0,3.0]])\n",
    "b.nbytes"
   ]
  }
 ],
 "metadata": {
  "kernelspec": {
   "display_name": "Python 3 (ipykernel)",
   "language": "python",
   "name": "python3"
  },
  "language_info": {
   "codemirror_mode": {
    "name": "ipython",
    "version": 3
   },
   "file_extension": ".py",
   "mimetype": "text/x-python",
   "name": "python",
   "nbconvert_exporter": "python",
   "pygments_lexer": "ipython3",
   "version": "3.9.12"
  }
 },
 "nbformat": 4,
 "nbformat_minor": 5
}
