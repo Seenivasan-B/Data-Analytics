{
 "cells": [
  {
   "cell_type": "markdown",
   "id": "9010a34b",
   "metadata": {},
   "source": [
    "# 03-Accessing and changing specific elements, rows, columns, etc"
   ]
  },
  {
   "cell_type": "code",
   "execution_count": 1,
   "id": "a0db68ff",
   "metadata": {},
   "outputs": [],
   "source": [
    "import numpy as np"
   ]
  },
  {
   "cell_type": "markdown",
   "id": "c88a383a",
   "metadata": {},
   "source": [
    "#### To get the shape of an array"
   ]
  },
  {
   "cell_type": "code",
   "execution_count": 2,
   "id": "05c56916",
   "metadata": {},
   "outputs": [
    {
     "name": "stdout",
     "output_type": "stream",
     "text": [
      "(2, 7)\n"
     ]
    }
   ],
   "source": [
    "a = np.array([[1,2,3,4,5,6,7],[8,9,10,11,12,13,14]])\n",
    "print(a.shape)"
   ]
  },
  {
   "cell_type": "markdown",
   "id": "dccc0dad",
   "metadata": {},
   "source": [
    "#### To get a specific element inside an array"
   ]
  },
  {
   "cell_type": "code",
   "execution_count": 3,
   "id": "2d9da28b",
   "metadata": {},
   "outputs": [
    {
     "name": "stdout",
     "output_type": "stream",
     "text": [
      "13\n",
      "13\n"
     ]
    }
   ],
   "source": [
    "a = np.array([[1,2,3,4,5,6,7],[8,9,10,11,12,13,14]])\n",
    "print(a[1,5])\n",
    "print(a[1,-2])"
   ]
  },
  {
   "cell_type": "markdown",
   "id": "85d5c3aa",
   "metadata": {},
   "source": [
    "Note  : The indexing will start as 0 not as 1"
   ]
  },
  {
   "cell_type": "markdown",
   "id": "414c48f7",
   "metadata": {},
   "source": [
    "#### To get a specific row\n"
   ]
  },
  {
   "cell_type": "code",
   "execution_count": 4,
   "id": "d0b84880",
   "metadata": {},
   "outputs": [
    {
     "name": "stdout",
     "output_type": "stream",
     "text": [
      "[1 2 3 4 5 6 7]\n"
     ]
    }
   ],
   "source": [
    "a = np.array([[1,2,3,4,5,6,7],[8,9,10,11,12,13,14]])\n",
    "print(a[0,:])"
   ]
  },
  {
   "cell_type": "markdown",
   "id": "673cdd9c",
   "metadata": {},
   "source": [
    "#### To get a specific column"
   ]
  },
  {
   "cell_type": "code",
   "execution_count": 5,
   "id": "bb4a0f48",
   "metadata": {},
   "outputs": [
    {
     "name": "stdout",
     "output_type": "stream",
     "text": [
      "[ 3 10]\n"
     ]
    }
   ],
   "source": [
    "a = np.array([[1,2,3,4,5,6,7],[8,9,10,11,12,13,14]])\n",
    "print(a[0:,2])"
   ]
  },
  {
   "cell_type": "markdown",
   "id": "d9844c79",
   "metadata": {},
   "source": [
    "#### To get a range of elements"
   ]
  },
  {
   "cell_type": "code",
   "execution_count": 6,
   "id": "77799dcb",
   "metadata": {},
   "outputs": [
    {
     "name": "stdout",
     "output_type": "stream",
     "text": [
      "[2 4 6]\n"
     ]
    }
   ],
   "source": [
    "a = np.array([[1,2,3,4,5,6,7],[8,9,10,11,12,13,14]])\n",
    "print(a[0,1:6:2])"
   ]
  },
  {
   "cell_type": "markdown",
   "id": "2a75d76b",
   "metadata": {},
   "source": [
    "Here we are printing the entire row starting from index 1 to 6 with a stepsize of 2."
   ]
  },
  {
   "cell_type": "markdown",
   "id": "66166806",
   "metadata": {},
   "source": [
    "[row,column] = [(start:stop:step),(start:stop:step)]"
   ]
  },
  {
   "cell_type": "markdown",
   "id": "c04769fe",
   "metadata": {},
   "source": [
    "#### To change values inside an array"
   ]
  },
  {
   "cell_type": "code",
   "execution_count": 7,
   "id": "41c98990",
   "metadata": {},
   "outputs": [
    {
     "name": "stdout",
     "output_type": "stream",
     "text": [
      "[[ 1  2  3  4  5 20  7]\n",
      " [ 8  9 10 11 12 20 14]]\n"
     ]
    }
   ],
   "source": [
    "a = np.array([[1,2,3,4,5,6,7],[8,9,10,11,12,13,14]])\n",
    "a[:,5] = 20\n",
    "print(a)"
   ]
  },
  {
   "cell_type": "markdown",
   "id": "43d03593",
   "metadata": {},
   "source": [
    "Here we changed the entire 5th(counted from zero)column value to 20."
   ]
  },
  {
   "cell_type": "code",
   "execution_count": 8,
   "id": "ee045220",
   "metadata": {},
   "outputs": [
    {
     "name": "stdout",
     "output_type": "stream",
     "text": [
      "[[ 1  2  1  4  5  6  7]\n",
      " [ 8  9  2 11 12 13 14]]\n"
     ]
    }
   ],
   "source": [
    "a = np.array([[1,2,3,4,5,6,7],[8,9,10,11,12,13,14]])\n",
    "a[:,2] = [1,2]\n",
    "print(a)"
   ]
  },
  {
   "cell_type": "markdown",
   "id": "3b0ddf27",
   "metadata": {},
   "source": [
    "Here we changed the entire 2nd(counted from zero) column to 1 and 2."
   ]
  },
  {
   "cell_type": "markdown",
   "id": "e9565e60",
   "metadata": {},
   "source": [
    "### 3 dimensional array"
   ]
  },
  {
   "cell_type": "code",
   "execution_count": 9,
   "id": "1b19a680",
   "metadata": {},
   "outputs": [
    {
     "name": "stdout",
     "output_type": "stream",
     "text": [
      "[[[1 2]\n",
      "  [3 4]]\n",
      "\n",
      " [[5 6]\n",
      "  [7 8]]]\n"
     ]
    }
   ],
   "source": [
    "b = np.array([[[1,2],[3,4]],[[5,6],[7,8]]])\n",
    "print(b)"
   ]
  },
  {
   "cell_type": "markdown",
   "id": "98a71f25",
   "metadata": {},
   "source": [
    "#### To get a specific element inside a 3d array"
   ]
  },
  {
   "cell_type": "markdown",
   "id": "61ca7df5",
   "metadata": {},
   "source": [
    "For easy indexing work outside in"
   ]
  },
  {
   "cell_type": "code",
   "execution_count": 10,
   "id": "27e8f6cd",
   "metadata": {},
   "outputs": [
    {
     "name": "stdout",
     "output_type": "stream",
     "text": [
      "4\n",
      "[[3 4]\n",
      " [7 8]]\n"
     ]
    }
   ],
   "source": [
    "b = np.array([[[1,2],[3,4]],[[5,6],[7,8]]])\n",
    "print(b[0,1,1])\n",
    "print(b[:,1,:])"
   ]
  },
  {
   "cell_type": "markdown",
   "id": "ba4630b5",
   "metadata": {},
   "source": [
    "#### To replace an element in an array"
   ]
  },
  {
   "cell_type": "code",
   "execution_count": 11,
   "id": "d0b85b40",
   "metadata": {},
   "outputs": [
    {
     "name": "stdout",
     "output_type": "stream",
     "text": [
      "[[[1 2]\n",
      "  [9 9]]\n",
      "\n",
      " [[5 6]\n",
      "  [8 8]]]\n"
     ]
    }
   ],
   "source": [
    "b = np.array([[[1,2],[3,4]],[[5,6],[7,8]]])\n",
    "b[:,1,:] = [[9,9],[8,8]]\n",
    "print(b)"
   ]
  }
 ],
 "metadata": {
  "kernelspec": {
   "display_name": "Python 3 (ipykernel)",
   "language": "python",
   "name": "python3"
  },
  "language_info": {
   "codemirror_mode": {
    "name": "ipython",
    "version": 3
   },
   "file_extension": ".py",
   "mimetype": "text/x-python",
   "name": "python",
   "nbconvert_exporter": "python",
   "pygments_lexer": "ipython3",
   "version": "3.9.12"
  }
 },
 "nbformat": 4,
 "nbformat_minor": 5
}
