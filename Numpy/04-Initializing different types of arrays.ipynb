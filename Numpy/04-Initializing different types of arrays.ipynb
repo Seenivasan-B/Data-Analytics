{
 "cells": [
  {
   "cell_type": "markdown",
   "id": "88558ddb",
   "metadata": {},
   "source": [
    "# 04-Initializing different types of arrays"
   ]
  },
  {
   "cell_type": "code",
   "execution_count": 1,
   "id": "450a23cb",
   "metadata": {},
   "outputs": [],
   "source": [
    "import numpy as np"
   ]
  },
  {
   "cell_type": "markdown",
   "id": "d52a5970",
   "metadata": {},
   "source": [
    "#### To print all zero matrix"
   ]
  },
  {
   "cell_type": "code",
   "execution_count": 2,
   "id": "8cb34092",
   "metadata": {},
   "outputs": [
    {
     "data": {
      "text/plain": [
       "array([0., 0., 0., 0., 0.])"
      ]
     },
     "execution_count": 2,
     "metadata": {},
     "output_type": "execute_result"
    }
   ],
   "source": [
    "a = np.zeros(5)\n",
    "a"
   ]
  },
  {
   "cell_type": "code",
   "execution_count": 3,
   "id": "2d019a5e",
   "metadata": {},
   "outputs": [
    {
     "data": {
      "text/plain": [
       "array([[0., 0., 0.],\n",
       "       [0., 0., 0.]])"
      ]
     },
     "execution_count": 3,
     "metadata": {},
     "output_type": "execute_result"
    }
   ],
   "source": [
    "b = np.zeros((2,3))\n",
    "b"
   ]
  },
  {
   "cell_type": "code",
   "execution_count": 4,
   "id": "8c973513",
   "metadata": {},
   "outputs": [
    {
     "data": {
      "text/plain": [
       "array([[[0., 0., 0., 0.],\n",
       "        [0., 0., 0., 0.],\n",
       "        [0., 0., 0., 0.]],\n",
       "\n",
       "       [[0., 0., 0., 0.],\n",
       "        [0., 0., 0., 0.],\n",
       "        [0., 0., 0., 0.]]])"
      ]
     },
     "execution_count": 4,
     "metadata": {},
     "output_type": "execute_result"
    }
   ],
   "source": [
    "c = np.zeros((2,3,4))\n",
    "c"
   ]
  },
  {
   "cell_type": "markdown",
   "id": "3dbb1e4e",
   "metadata": {},
   "source": [
    "#### To print all ones matrix"
   ]
  },
  {
   "cell_type": "code",
   "execution_count": 5,
   "id": "0fe11b04",
   "metadata": {},
   "outputs": [
    {
     "data": {
      "text/plain": [
       "array([[[1., 1., 1., 1.],\n",
       "        [1., 1., 1., 1.],\n",
       "        [1., 1., 1., 1.]],\n",
       "\n",
       "       [[1., 1., 1., 1.],\n",
       "        [1., 1., 1., 1.],\n",
       "        [1., 1., 1., 1.]]])"
      ]
     },
     "execution_count": 5,
     "metadata": {},
     "output_type": "execute_result"
    }
   ],
   "source": [
    "a = np.ones((2,3,4))\n",
    "a"
   ]
  },
  {
   "cell_type": "markdown",
   "id": "0fe76427",
   "metadata": {},
   "source": [
    "#### To print any number"
   ]
  },
  {
   "cell_type": "code",
   "execution_count": 6,
   "id": "8288dcba",
   "metadata": {},
   "outputs": [
    {
     "data": {
      "text/plain": [
       "array([[99.99, 99.99, 99.99],\n",
       "       [99.99, 99.99, 99.99],\n",
       "       [99.99, 99.99, 99.99]])"
      ]
     },
     "execution_count": 6,
     "metadata": {},
     "output_type": "execute_result"
    }
   ],
   "source": [
    "a = np.full((3,3),99.99)\n",
    "a"
   ]
  },
  {
   "cell_type": "markdown",
   "id": "2a587205",
   "metadata": {},
   "source": [
    "###### To change the data type"
   ]
  },
  {
   "cell_type": "code",
   "execution_count": 7,
   "id": "61f0b50d",
   "metadata": {},
   "outputs": [
    {
     "data": {
      "text/plain": [
       "array([[99, 99, 99],\n",
       "       [99, 99, 99],\n",
       "       [99, 99, 99]], dtype=int8)"
      ]
     },
     "execution_count": 7,
     "metadata": {},
     "output_type": "execute_result"
    }
   ],
   "source": [
    "a = np.full((3,3),99.99,dtype='int8')\n",
    "a"
   ]
  },
  {
   "cell_type": "markdown",
   "id": "82659ee3",
   "metadata": {},
   "source": [
    "#### To print an array using a reference array"
   ]
  },
  {
   "cell_type": "code",
   "execution_count": 8,
   "id": "fe802cae",
   "metadata": {},
   "outputs": [
    {
     "name": "stdout",
     "output_type": "stream",
     "text": [
      "[[ 1  2  3  4  5]\n",
      " [ 6  7  8  9 10]]\n",
      "[[4 4 4 4 4]\n",
      " [4 4 4 4 4]]\n"
     ]
    }
   ],
   "source": [
    "a = np.array([[1,2,3,4,5],[6,7,8,9,10]])\n",
    "b = np.full_like(a,4)\n",
    "print(a)\n",
    "print(b)"
   ]
  },
  {
   "cell_type": "code",
   "execution_count": 9,
   "id": "0f260be3",
   "metadata": {},
   "outputs": [
    {
     "data": {
      "text/plain": [
       "array([[4, 4, 4, 4, 4],\n",
       "       [4, 4, 4, 4, 4]])"
      ]
     },
     "execution_count": 9,
     "metadata": {},
     "output_type": "execute_result"
    }
   ],
   "source": [
    "c = np.full(a.shape,4)\n",
    "c"
   ]
  },
  {
   "cell_type": "markdown",
   "id": "63d1063b",
   "metadata": {},
   "source": [
    "#### To print a random decimal number (float value)"
   ]
  },
  {
   "cell_type": "code",
   "execution_count": 10,
   "id": "c7d7d073",
   "metadata": {},
   "outputs": [
    {
     "data": {
      "text/plain": [
       "array([[0.04215388, 0.57141014],\n",
       "       [0.08698555, 0.53201977],\n",
       "       [0.13380337, 0.78317158],\n",
       "       [0.65095184, 0.69882745]])"
      ]
     },
     "execution_count": 10,
     "metadata": {},
     "output_type": "execute_result"
    }
   ],
   "source": [
    "b = np.random.rand(4,2)\n",
    "b"
   ]
  },
  {
   "cell_type": "markdown",
   "id": "a4c77950",
   "metadata": {},
   "source": [
    "##### Printing using a reference array"
   ]
  },
  {
   "cell_type": "code",
   "execution_count": 11,
   "id": "f0cfd5aa",
   "metadata": {},
   "outputs": [
    {
     "name": "stdout",
     "output_type": "stream",
     "text": [
      "[[0.71333647 0.02100651 0.48727602 0.86565397 0.6007694 ]\n",
      " [0.22779535 0.81706109 0.22552557 0.47607434 0.91857527]]\n"
     ]
    }
   ],
   "source": [
    "c = np.random.random_sample(a.shape)\n",
    "print(c)"
   ]
  },
  {
   "cell_type": "markdown",
   "id": "20a19b6c",
   "metadata": {},
   "source": [
    "#### To print a  random integer "
   ]
  },
  {
   "cell_type": "code",
   "execution_count": 12,
   "id": "112deb53",
   "metadata": {},
   "outputs": [
    {
     "name": "stdout",
     "output_type": "stream",
     "text": [
      "5\n"
     ]
    }
   ],
   "source": [
    "b = np.random.randint(7)\n",
    "print(b)"
   ]
  },
  {
   "cell_type": "code",
   "execution_count": 13,
   "id": "9bbf327a",
   "metadata": {},
   "outputs": [
    {
     "name": "stdout",
     "output_type": "stream",
     "text": [
      "[[2 6 6]\n",
      " [3 3 6]\n",
      " [0 0 5]]\n"
     ]
    }
   ],
   "source": [
    "c = np.random.randint(7,size=(3,3))\n",
    "print(c)"
   ]
  },
  {
   "cell_type": "code",
   "execution_count": 14,
   "id": "71853410",
   "metadata": {},
   "outputs": [
    {
     "name": "stdout",
     "output_type": "stream",
     "text": [
      "[[5 6 5]\n",
      " [5 6 6]\n",
      " [6 5 4]]\n"
     ]
    }
   ],
   "source": [
    "d = np.random.randint(4,7,size=(3,3))\n",
    "print(d)"
   ]
  },
  {
   "cell_type": "markdown",
   "id": "01a50525",
   "metadata": {},
   "source": [
    "Here we are giving the range of values that needs to be inserted inside the matrix. Here the value 7 is exclusive that's why it's not inside the matrix"
   ]
  },
  {
   "cell_type": "markdown",
   "id": "79ee7fe8",
   "metadata": {},
   "source": [
    "#### To print an identity matrix"
   ]
  },
  {
   "cell_type": "code",
   "execution_count": 15,
   "id": "476fccf8",
   "metadata": {},
   "outputs": [
    {
     "data": {
      "text/plain": [
       "array([[1., 0., 0.],\n",
       "       [0., 1., 0.],\n",
       "       [0., 0., 1.]])"
      ]
     },
     "execution_count": 15,
     "metadata": {},
     "output_type": "execute_result"
    }
   ],
   "source": [
    "a = np.identity(3)\n",
    "a"
   ]
  },
  {
   "cell_type": "markdown",
   "id": "8e5b79d4",
   "metadata": {},
   "source": [
    "###### To change the dtype"
   ]
  },
  {
   "cell_type": "code",
   "execution_count": 16,
   "id": "73f5fbfd",
   "metadata": {},
   "outputs": [
    {
     "data": {
      "text/plain": [
       "array([[1, 0, 0],\n",
       "       [0, 1, 0],\n",
       "       [0, 0, 1]], dtype=int8)"
      ]
     },
     "execution_count": 16,
     "metadata": {},
     "output_type": "execute_result"
    }
   ],
   "source": [
    "a = np.identity(3,dtype='int8')\n",
    "a"
   ]
  },
  {
   "cell_type": "markdown",
   "id": "c473a22d",
   "metadata": {},
   "source": [
    "#### To repeat an array"
   ]
  },
  {
   "cell_type": "markdown",
   "id": "4c8eac66",
   "metadata": {},
   "source": [
    "##### To repeat the array in the row"
   ]
  },
  {
   "cell_type": "code",
   "execution_count": 17,
   "id": "4653b1e0",
   "metadata": {},
   "outputs": [
    {
     "name": "stdout",
     "output_type": "stream",
     "text": [
      "[[1 2 3]\n",
      " [1 2 3]\n",
      " [1 2 3]]\n"
     ]
    }
   ],
   "source": [
    "arr = np.array([[1,2,3]])\n",
    "r1 = np.repeat(arr,3,axis=0)\n",
    "print(r1)"
   ]
  },
  {
   "cell_type": "markdown",
   "id": "c6b32a4d",
   "metadata": {},
   "source": [
    "##### To repeat the array in the column"
   ]
  },
  {
   "cell_type": "code",
   "execution_count": 18,
   "id": "01b9b803",
   "metadata": {},
   "outputs": [
    {
     "name": "stdout",
     "output_type": "stream",
     "text": [
      "[[1 1 1 1 2 2 2 2 3 3 3 3]]\n"
     ]
    }
   ],
   "source": [
    "r2 = np.repeat(arr,4,axis=1)\n",
    "print(r2)"
   ]
  },
  {
   "cell_type": "markdown",
   "id": "5710db89",
   "metadata": {},
   "source": [
    "#### To print a pattern using numpy"
   ]
  },
  {
   "cell_type": "markdown",
   "id": "a3e79ef7",
   "metadata": {},
   "source": [
    "1 1 1 1 1 <br>\n",
    "1 0 0 0 1 <br>\n",
    "1 0 9 0 1 <br>\n",
    "1 0 0 0 1 <br>\n",
    "1 1 1 1 1 "
   ]
  },
  {
   "cell_type": "code",
   "execution_count": 19,
   "id": "06321e56",
   "metadata": {},
   "outputs": [
    {
     "data": {
      "text/plain": [
       "array([[1, 1, 1, 1, 1],\n",
       "       [1, 0, 0, 0, 1],\n",
       "       [1, 0, 9, 0, 1],\n",
       "       [1, 0, 0, 0, 1],\n",
       "       [1, 1, 1, 1, 1]], dtype=int8)"
      ]
     },
     "execution_count": 19,
     "metadata": {},
     "output_type": "execute_result"
    }
   ],
   "source": [
    "a = np.ones((5,5),dtype='int8')\n",
    "b = np.zeros((3,3),dtype='int8')\n",
    "a[1:4,1:4] = b\n",
    "a[2,2] = 9\n",
    "a"
   ]
  },
  {
   "cell_type": "markdown",
   "id": "7f7a9dac",
   "metadata": {},
   "source": [
    "#### Copying an array"
   ]
  },
  {
   "cell_type": "code",
   "execution_count": 20,
   "id": "f029f39f",
   "metadata": {},
   "outputs": [
    {
     "name": "stdout",
     "output_type": "stream",
     "text": [
      "[100   2   3]\n"
     ]
    }
   ],
   "source": [
    "a = np.array([1,2,3])\n",
    "b = a\n",
    "b[0] = 100\n",
    "print(a)"
   ]
  },
  {
   "cell_type": "markdown",
   "id": "54122c77",
   "metadata": {},
   "source": [
    "Here the value of (a) also changed while trying to change b."
   ]
  },
  {
   "cell_type": "code",
   "execution_count": 21,
   "id": "57519ece",
   "metadata": {},
   "outputs": [
    {
     "name": "stdout",
     "output_type": "stream",
     "text": [
      "[1 2 3]\n",
      "[100   2   3]\n"
     ]
    }
   ],
   "source": [
    "z = np.array([1,2,3])\n",
    "x = z.copy()\n",
    "x[0] = 100\n",
    "print(z)\n",
    "print(x)"
   ]
  }
 ],
 "metadata": {
  "kernelspec": {
   "display_name": "Python 3 (ipykernel)",
   "language": "python",
   "name": "python3"
  },
  "language_info": {
   "codemirror_mode": {
    "name": "ipython",
    "version": 3
   },
   "file_extension": ".py",
   "mimetype": "text/x-python",
   "name": "python",
   "nbconvert_exporter": "python",
   "pygments_lexer": "ipython3",
   "version": "3.9.12"
  }
 },
 "nbformat": 4,
 "nbformat_minor": 5
}
