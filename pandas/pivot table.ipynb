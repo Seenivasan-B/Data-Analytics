{
 "cells": [
  {
   "cell_type": "code",
   "execution_count": null,
   "id": "d5acd87e",
   "metadata": {},
   "outputs": [],
   "source": [
    "import pandas as pd\n",
    "df = pd.read_csv(\"E:\\\\zbackup\\\\z- hp lap backup\\\\Python\\\\weather.csv\")\n",
    "df"
   ]
  },
  {
   "cell_type": "code",
   "execution_count": null,
   "id": "819c4dbe",
   "metadata": {},
   "outputs": [],
   "source": [
    "df.pivot(index = 'date',columns='city')"
   ]
  },
  {
   "cell_type": "code",
   "execution_count": null,
   "id": "70134189",
   "metadata": {},
   "outputs": [],
   "source": [
    "df.pivot(index = 'date',columns='city',values='humidity')"
   ]
  },
  {
   "cell_type": "code",
   "execution_count": null,
   "id": "40d01b28",
   "metadata": {},
   "outputs": [],
   "source": [
    "df = pd.read_csv(\"E:\\\\zbackup\\\\z- hp lap backup\\\\Python\\\\weather2.csv\")\n",
    "df"
   ]
  },
  {
   "cell_type": "code",
   "execution_count": null,
   "id": "ee45234c",
   "metadata": {},
   "outputs": [],
   "source": [
    "df.pivot_table(index = 'city', columns='date')"
   ]
  },
  {
   "cell_type": "code",
   "execution_count": null,
   "id": "d0f87871",
   "metadata": {},
   "outputs": [],
   "source": [
    "df.pivot_table(index = 'city', columns='date',aggfunc='sum')"
   ]
  },
  {
   "cell_type": "code",
   "execution_count": null,
   "id": "40ac360a",
   "metadata": {},
   "outputs": [],
   "source": [
    "df.pivot_table(index = 'city', columns='date',aggfunc='count')"
   ]
  },
  {
   "cell_type": "code",
   "execution_count": null,
   "id": "ef1544ec",
   "metadata": {},
   "outputs": [],
   "source": [
    "df.pivot_table(index = 'city', columns='date',margins=True)"
   ]
  },
  {
   "cell_type": "code",
   "execution_count": null,
   "id": "f272c9c0",
   "metadata": {},
   "outputs": [],
   "source": [
    "df = pd.read_csv(\"E:\\\\zbackup\\\\z- hp lap backup\\\\Python\\\\weather3.csv\")\n",
    "df"
   ]
  },
  {
   "cell_type": "code",
   "execution_count": null,
   "id": "0615ff1d",
   "metadata": {},
   "outputs": [],
   "source": [
    "df['date']=pd.to_datetime(df['date'])\n",
    "df"
   ]
  },
  {
   "cell_type": "code",
   "execution_count": null,
   "id": "ccff283a",
   "metadata": {},
   "outputs": [],
   "source": [
    "df.pivot_table(index = pd.Grouper(freq='M',key='date'),columns= 'city')"
   ]
  }
 ],
 "metadata": {
  "kernelspec": {
   "display_name": "Python 3 (ipykernel)",
   "language": "python",
   "name": "python3"
  },
  "language_info": {
   "codemirror_mode": {
    "name": "ipython",
    "version": 3
   },
   "file_extension": ".py",
   "mimetype": "text/x-python",
   "name": "python",
   "nbconvert_exporter": "python",
   "pygments_lexer": "ipython3",
   "version": "3.9.12"
  }
 },
 "nbformat": 4,
 "nbformat_minor": 5
}
